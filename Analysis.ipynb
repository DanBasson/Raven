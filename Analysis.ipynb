{
 "cells": [
  {
   "cell_type": "code",
   "execution_count": 1,
   "metadata": {},
   "outputs": [
    {
     "ename": "ModuleNotFoundError",
     "evalue": "No module named 'constants'",
     "output_type": "error",
     "traceback": [
      "\u001b[0;31m---------------------------------------------------------------------------\u001b[0m",
      "\u001b[0;31mModuleNotFoundError\u001b[0m                       Traceback (most recent call last)",
      "Cell \u001b[0;32mIn[1], line 12\u001b[0m\n\u001b[1;32m      9\u001b[0m \u001b[38;5;28;01mfrom\u001b[39;00m \u001b[38;5;21;01mmatplotlib\u001b[39;00m\u001b[38;5;21;01m.\u001b[39;00m\u001b[38;5;21;01mpyplot\u001b[39;00m \u001b[38;5;28;01mimport\u001b[39;00m figure\n\u001b[1;32m     10\u001b[0m \u001b[38;5;28;01mimport\u001b[39;00m \u001b[38;5;21;01mplotly\u001b[39;00m\u001b[38;5;21;01m.\u001b[39;00m\u001b[38;5;21;01mexpress\u001b[39;00m \u001b[38;5;28;01mas\u001b[39;00m \u001b[38;5;21;01mpx\u001b[39;00m\n\u001b[0;32m---> 12\u001b[0m \u001b[38;5;28;01mfrom\u001b[39;00m \u001b[38;5;21;01mconstants\u001b[39;00m \u001b[38;5;28;01mimport\u001b[39;00m \u001b[38;5;241m*\u001b[39m\n\u001b[1;32m     13\u001b[0m \u001b[38;5;28;01mfrom\u001b[39;00m \u001b[38;5;21;01mpreprocessor\u001b[39;00m \u001b[38;5;28;01mimport\u001b[39;00m Preprocessor\n\u001b[1;32m     14\u001b[0m \u001b[38;5;28;01mfrom\u001b[39;00m \u001b[38;5;21;01mutils\u001b[39;00m\u001b[38;5;21;01m.\u001b[39;00m\u001b[38;5;21;01mutilss\u001b[39;00m \u001b[38;5;28;01mimport\u001b[39;00m customer_cumsum, monthly_revenue_and_transactions,\\\n\u001b[1;32m     15\u001b[0m     country_amount, top_countries_by_month_year, get_whale_customers, \\\n\u001b[1;32m     16\u001b[0m         get_whales_by_column\n",
      "\u001b[0;31mModuleNotFoundError\u001b[0m: No module named 'constants'"
     ]
    }
   ],
   "source": [
    "import warnings\n",
    "import pandas as pd\n",
    "import numpy as np\n",
    "from sklearn.decomposition import PCA\n",
    "from sklearn.preprocessing import MinMaxScaler\n",
    "from sklearn.cluster import KMeans\n",
    "import seaborn as sns\n",
    "import matplotlib.pyplot as plt\n",
    "from matplotlib.pyplot import figure\n",
    "import plotly.express as px\n",
    "\n",
    "from constants import *\n",
    "from preprocessor import Preprocessor\n",
    "from utils.utilss import customer_cumsum, monthly_revenue_and_transactions,\\\n",
    "    country_amount, top_countries_by_month_year, get_whale_customers, \\\n",
    "        get_whales_by_column\n",
    "from fe import FeatureEngineering \n",
    "from model import ClusterModel\n",
    "\n",
    "\n"
   ]
  },
  {
   "cell_type": "code",
   "execution_count": null,
   "metadata": {},
   "outputs": [],
   "source": [
    "# for readability\n",
    "\n",
    "pd.set_option('display.max_rows', 5000)\n",
    "pd.set_option('display.max_columns', 5000)\n",
    "pd.set_option('display.width', 1000)\n",
    "pd.set_option('max_colwidth', 99999)\n",
    "warnings.filterwarnings(\"ignore\")"
   ]
  },
  {
   "cell_type": "code",
   "execution_count": 2,
   "metadata": {},
   "outputs": [],
   "source": [
    "df = pd.read_parquet('df.parquet.gzip')\n",
    "CURRENT_TIME = df[invoicedate].max()"
   ]
  },
  {
   "cell_type": "code",
   "execution_count": 6,
   "metadata": {},
   "outputs": [
    {
     "data": {
      "text/html": [
       "<div>\n",
       "<style scoped>\n",
       "    .dataframe tbody tr th:only-of-type {\n",
       "        vertical-align: middle;\n",
       "    }\n",
       "\n",
       "    .dataframe tbody tr th {\n",
       "        vertical-align: top;\n",
       "    }\n",
       "\n",
       "    .dataframe thead th {\n",
       "        text-align: right;\n",
       "    }\n",
       "</style>\n",
       "<table border=\"1\" class=\"dataframe\">\n",
       "  <thead>\n",
       "    <tr style=\"text-align: right;\">\n",
       "      <th></th>\n",
       "      <th>InvoiceNo</th>\n",
       "      <th>StockCode</th>\n",
       "      <th>Description</th>\n",
       "      <th>Quantity</th>\n",
       "      <th>InvoiceDate</th>\n",
       "      <th>UnitPrice</th>\n",
       "      <th>CustomerID</th>\n",
       "      <th>Country</th>\n",
       "    </tr>\n",
       "  </thead>\n",
       "  <tbody>\n",
       "    <tr>\n",
       "      <th>0</th>\n",
       "      <td>536365</td>\n",
       "      <td>85123A</td>\n",
       "      <td>WHITE HANGING HEART T-LIGHT HOLDER</td>\n",
       "      <td>6</td>\n",
       "      <td>2010-12-01 08:26:00</td>\n",
       "      <td>2.55</td>\n",
       "      <td>17850.0</td>\n",
       "      <td>United Kingdom</td>\n",
       "    </tr>\n",
       "    <tr>\n",
       "      <th>1</th>\n",
       "      <td>536365</td>\n",
       "      <td>71053</td>\n",
       "      <td>WHITE METAL LANTERN</td>\n",
       "      <td>6</td>\n",
       "      <td>2010-12-01 08:26:00</td>\n",
       "      <td>3.39</td>\n",
       "      <td>17850.0</td>\n",
       "      <td>United Kingdom</td>\n",
       "    </tr>\n",
       "  </tbody>\n",
       "</table>\n",
       "</div>"
      ],
      "text/plain": [
       "  InvoiceNo StockCode                         Description  Quantity         InvoiceDate  UnitPrice  CustomerID         Country\n",
       "0    536365    85123A  WHITE HANGING HEART T-LIGHT HOLDER         6 2010-12-01 08:26:00       2.55     17850.0  United Kingdom\n",
       "1    536365     71053                 WHITE METAL LANTERN         6 2010-12-01 08:26:00       3.39     17850.0  United Kingdom"
      ]
     },
     "execution_count": 6,
     "metadata": {},
     "output_type": "execute_result"
    }
   ],
   "source": [
    "df.head(2)"
   ]
  },
  {
   "cell_type": "code",
   "execution_count": 3,
   "metadata": {},
   "outputs": [
    {
     "data": {
      "text/plain": [
       "(Timestamp('2010-12-01 08:26:00'), Timestamp('2011-12-09 12:50:00'))"
      ]
     },
     "execution_count": 3,
     "metadata": {},
     "output_type": "execute_result"
    }
   ],
   "source": [
    "df[invoicedate].min(), df[invoicedate].max()"
   ]
  },
  {
   "cell_type": "markdown",
   "metadata": {},
   "source": [
    "cleaning"
   ]
  },
  {
   "cell_type": "code",
   "execution_count": null,
   "metadata": {},
   "outputs": [],
   "source": [
    "preprocessor = Preprocessor()\n",
    "processed_df = preprocessor.preprocessing_pipeline(df)\n",
    "print(f'total customers - {processed_df[customerid].nunique()}')"
   ]
  },
  {
   "cell_type": "code",
   "execution_count": null,
   "metadata": {},
   "outputs": [],
   "source": [
    "customer_amount = processed_df.groupby(customerid, as_index=False)[amount].sum()\n",
    "customer_amount['bin_total_amount'] = pd.qcut(customer_amount[amount], 10)\n",
    "series_vc = customer_amount['bin_total_amount']\n",
    "pd.concat([series_vc.value_counts(dropna=False), series_vc\n",
    "                .value_counts(normalize=True, dropna=False)], keys=['counts', 'normalized_counts'], axis=1)\n",
    "\n"
   ]
  },
  {
   "cell_type": "code",
   "execution_count": null,
   "metadata": {},
   "outputs": [],
   "source": [
    "customer_cumsum_df = customer_cumsum(processed_df)\n",
    "fig = px.line(customer_cumsum_df, x=range(customer_cumsum_df.shape[0]), y=\"amount_cumsum\",\n",
    "             title='accumaulated revenue with respect to total customers'.title())\n",
    "fig.update_layout(xaxis_title=\"accumulated customers\".title(), yaxis_title=\"amount ratio\".title())\n",
    "fig.show()"
   ]
  },
  {
   "cell_type": "markdown",
   "metadata": {},
   "source": [
    "from the above plot we can see sort of the pareto rule - about 500 customers (12.5%) are responsible for 60% of the revenue"
   ]
  },
  {
   "cell_type": "markdown",
   "metadata": {},
   "source": [
    "aa"
   ]
  },
  {
   "cell_type": "code",
   "execution_count": null,
   "metadata": {},
   "outputs": [],
   "source": [
    "monthly_amount, monthly_transactions, monthly_avg_transaction_amount = monthly_revenue_and_transactions(processed_df)\n",
    "\n",
    "fig, (ax1, ax2, ax3) = plt.subplots(3, 1, sharex=True, figsize=(12, 10))\n",
    "sns.lineplot(monthly_amount, x=\"month_year\", y='amount', ax=ax1).set_title('month with respect to total revenue'.title())\n",
    "sns.lineplot(monthly_transactions, x=\"month_year\", y=invoiceno, ax=ax2).set_title('total transactions per month'.title())\n",
    "sns.lineplot(monthly_avg_transaction_amount, x=\"month_year\", y='avg_transaction_amount', ax=ax3).set_title('average amount per invoice'.title())\n",
    "\n",
    "plt.tight_layout()\n",
    "plt.show()"
   ]
  },
  {
   "cell_type": "code",
   "execution_count": null,
   "metadata": {},
   "outputs": [],
   "source": []
  },
  {
   "cell_type": "code",
   "execution_count": null,
   "metadata": {},
   "outputs": [],
   "source": [
    "# dead customers\n",
    "\n",
    "processed_df['max_date'] = processed_df.groupby(customerid)[invoicedate].transform('max')\n",
    "processed_df['recency'] = (CURRENT_TIME - processed_df['max_date']).dt.days\n",
    "dead_customer = processed_df.groupby([customerid, 'recency'], as_index=False)[invoiceno].nunique()\n",
    "th_dead_customer = 180\n",
    "mask = (dead_customer['recency'] > th_dead_customer) & (dead_customer[invoiceno] == 1)\n",
    "dead_customer[mask].shape\n"
   ]
  },
  {
   "cell_type": "code",
   "execution_count": null,
   "metadata": {},
   "outputs": [],
   "source": [
    "# explore top countries by amount\n",
    "\n",
    "country_df = country_amount(processed_df, N=processed_df[country].nunique())\n",
    "country_df[:10]\n"
   ]
  },
  {
   "cell_type": "markdown",
   "metadata": {},
   "source": [
    "we can see from the above table that 5 countries are responsibe for 95% of the income.<br>\n",
    "More importantly, we can that the UK has the majority of out bussiness, with 83% of out total income.<br>\n",
    "let's visualize it for better readability."
   ]
  },
  {
   "cell_type": "code",
   "execution_count": null,
   "metadata": {},
   "outputs": [],
   "source": [
    "# top n countries by amount\n",
    "\n",
    "n = 5\n",
    "country_df = country_amount(processed_df, N=n)\n",
    "top_countries = country_df[:n][country]\n",
    "title = '95% of the income is coming from the following 5 countries  (83% is coming from the UK)'.title()\n",
    "\n",
    "fig = px.bar(country_df, x=country, y='amount_percent', text='amount_percent', title=title, color = country\n",
    "             ).update_layout(showlegend=False, yaxis_range=[0,1]) \n",
    "fig.show()"
   ]
  },
  {
   "cell_type": "code",
   "execution_count": null,
   "metadata": {},
   "outputs": [],
   "source": [
    "# time series per top countries\n",
    "\n",
    "# month_year = 'month_year'\n",
    "country_month_year_top = top_countries_by_month_year(processed_df, top_countries)\n",
    "\n",
    "fig, (ax1, ax2, ax3, ax4, ax5) = plt.subplots(5, 1, sharex=True, figsize=(14, 12))\n",
    "axs = [ax1, ax2, ax3, ax4, ax5]\n",
    "for i, (ax, country_name) in enumerate(zip(axs, top_countries)):\n",
    "    i+=1\n",
    "    country_df_temp = country_month_year_top[country_month_year_top[country] == country_name]\n",
    "    plt.subplot(n*100 + 10 + i)\n",
    "    sns.lineplot(country_df_temp, x='month_year', y=amount, ax=ax).set_title(f'{country_name}'.upper())\n",
    "plt.tight_layout()"
   ]
  },
  {
   "cell_type": "code",
   "execution_count": null,
   "metadata": {},
   "outputs": [],
   "source": []
  },
  {
   "cell_type": "code",
   "execution_count": null,
   "metadata": {},
   "outputs": [],
   "source": [
    "# whales\n",
    "\n",
    "whales = get_whale_customers(processed_df, q=.95)\n",
    "print(f'there are total {whales.shape[0]} whale customers')\n",
    "whales_count = get_whales_by_column(whales, groupby_column=country, top_countries_n=5)\n",
    "fig = px.bar(whales_count, x=country, y='customers', title='Whales per country'.title(), color = country,\n",
    "             text='customers'). update_layout(showlegend=False)\n",
    "fig.show()"
   ]
  },
  {
   "cell_type": "code",
   "execution_count": null,
   "metadata": {},
   "outputs": [],
   "source": [
    "# total transactions per country - time series\n",
    "\n",
    "\n",
    "month_year_country_rans = processed_df.groupby(['month_year', country], as_index=False)[invoiceno].size().rename(\n",
    "    columns={'size': 'transactions'})\n",
    "month_year_country_rans[month_year] = month_year_country_rans[month_year].astype(str)\n",
    "month_year_country_rans = month_year_country_rans[month_year_country_rans[country].isin(top_countries)]\n",
    "\n",
    "fig, (ax1, ax2, ax3,ax4,ax5) = plt.subplots(n, 1, sharex=True, figsize=(14, 12))\n",
    "axs = [ax1, ax2, ax3,ax4,ax5]\n",
    "for i, (ax, country_name) in enumerate(zip(axs, top_countries)):\n",
    "    i+=1\n",
    "    month_year_country_rans_temp = month_year_country_rans[month_year_country_rans[country] == country_name]\n",
    "    plt.subplot(n*100 + 10 + i)\n",
    "    sns.lineplot(month_year_country_rans_temp, x='month_year', y='transactions', ax=ax\n",
    "                 ).set_title(f'{country_name}'.upper())\n",
    "plt.tight_layout()"
   ]
  },
  {
   "cell_type": "code",
   "execution_count": null,
   "metadata": {},
   "outputs": [],
   "source": [
    "# new customers per month\n",
    "\n",
    "processed_df['join_date'] = processed_df.groupby(customerid)[invoicedate].transform('min').dt.to_period(freq='M')\n",
    "\n",
    "join_df = processed_df[['join_date', customerid]].drop_duplicates()\n",
    "join_df = join_df.groupby('join_date', as_index=False)[customerid].nunique().rename(\n",
    "    columns={customerid: 'num_of_new_customers'})\n",
    "join_df['join_date'] = join_df['join_date'].astype(str)\n",
    "\n",
    "figure(figsize=(16, 6), dpi=80)\n",
    "title = f'new customers with respect to month'.title()\n",
    "sns.lineplot(join_df, x='join_date', y='num_of_new_customers').set_title(title)\n",
    "plt.tight_layout()"
   ]
  },
  {
   "cell_type": "code",
   "execution_count": null,
   "metadata": {},
   "outputs": [],
   "source": [
    "# new customers per month by country\n",
    "\n",
    "processed_df['join_date'] = processed_df.groupby(customerid)[invoicedate].transform('min').dt.to_period(freq='M')\n",
    "\n",
    "join_df = processed_df[['join_date', customerid, country]].drop_duplicates()\n",
    "join_df = join_df.groupby(['join_date', country], as_index=False)[customerid].nunique().rename(\n",
    "    columns={customerid: 'num_of_new_customers'})\n",
    "join_df['join_date'] = join_df['join_date'].astype(str)\n",
    "join_df = join_df[join_df[country].isin(top_countries)]\n",
    "join_df[:2]\n",
    "\n",
    "i = 0\n",
    "fig, (ax1, ax2, ax3,ax4,ax5) = plt.subplots(n, 1, sharex=True, figsize=(14, 12))\n",
    "axs = [ax1, ax2, ax3,ax4,ax5]\n",
    "for ax, c in zip(axs, top_countries):\n",
    "    i+=1\n",
    "    cc = join_df[join_df[country] == c]\n",
    "    plt.subplot(n*100 + 10 + i)\n",
    "    sns.lineplot(cc, x='join_date', y='num_of_new_customers', ax=ax).set_title(f'{c}'.upper())\n",
    "plt.tight_layout()"
   ]
  },
  {
   "cell_type": "code",
   "execution_count": null,
   "metadata": {},
   "outputs": [],
   "source": [
    "# plot recency distribution to see active customers"
   ]
  },
  {
   "cell_type": "markdown",
   "metadata": {},
   "source": [
    "### EDA main insights"
   ]
  },
  {
   "cell_type": "markdown",
   "metadata": {},
   "source": [
    "## Feature Engineering"
   ]
  },
  {
   "cell_type": "code",
   "execution_count": null,
   "metadata": {},
   "outputs": [],
   "source": [
    "fe = FeatureEngineering()\n",
    "fe_df = fe.feature_engineering_pipeline(processed_df)\n",
    "print(f'total customers after applying feature engineering - {processed_df[customerid].nunique()}')"
   ]
  },
  {
   "cell_type": "code",
   "execution_count": null,
   "metadata": {},
   "outputs": [],
   "source": [
    "fe_df.head()"
   ]
  },
  {
   "cell_type": "code",
   "execution_count": null,
   "metadata": {},
   "outputs": [],
   "source": [
    "# box plots"
   ]
  },
  {
   "cell_type": "code",
   "execution_count": null,
   "metadata": {},
   "outputs": [],
   "source": [
    "# normalizing\n",
    "\n",
    "\n",
    "\n",
    "mms = MinMaxScaler()\n",
    "fe_df_customers = fe_df[customerid]\n",
    "fe_df = fe_df.drop([customerid], axis=1)\n",
    "X = pd.DataFrame(fe_df, columns=[i for i in fe_df.columns])\n",
    "X = mms.fit_transform(X)"
   ]
  },
  {
   "cell_type": "markdown",
   "metadata": {},
   "source": [
    "### elbow method"
   ]
  },
  {
   "cell_type": "code",
   "execution_count": null,
   "metadata": {},
   "outputs": [],
   "source": [
    "k_means=ClusterModel(X, elbow_max_clusters=10, model=KMeans)\n",
    "k_means.elbow_method()\n",
    "k_means.plot_elbow()"
   ]
  },
  {
   "cell_type": "code",
   "execution_count": null,
   "metadata": {},
   "outputs": [],
   "source": [
    "n_clusters = 2\n",
    "hyper_params = {'n_clusters': n_clusters, 'random_state': 1}\n",
    "k_means = ClusterModel(X, elbow_max_clusters=10, model=KMeans, model_hyperparameters=hyper_params)\n",
    "k_means.fit_model()\n",
    "fe_df['Cluster'] = k_means.fitted_model.fit_predict(X=k_means.X)\n",
    "fe_df['Cluster'] += 1"
   ]
  },
  {
   "cell_type": "code",
   "execution_count": null,
   "metadata": {},
   "outputs": [],
   "source": [
    "fe_df['Cluster'] = fe_df['Cluster'].astype(str)\n",
    "\n",
    "fig = px.scatter_3d(fe_df, x='recency', y='frequency', z='monetary_value',\n",
    "                    color='Cluster', title='3D Plot of K-means Clusters on RFM Data'\n",
    "                    ,width=800, height=800).update_layout(showlegend=False)\n",
    "fig.show()"
   ]
  },
  {
   "cell_type": "markdown",
   "metadata": {},
   "source": [
    "let's remove the outliers for better visibility"
   ]
  },
  {
   "cell_type": "code",
   "execution_count": null,
   "metadata": {},
   "outputs": [],
   "source": [
    "plot_df = fe_df[fe_df['frequency'] < 50]\n",
    "plot_df = fe_df[fe_df['monetary_value'] < 100_000]\n",
    "\n",
    "fig = px.scatter_3d(plot_df, x='recency', y='frequency', z='monetary_value',\n",
    "                    color='Cluster', title='3D Plot of K-means Clusters on RFM Data'\n",
    "                    ,width=800, height=800).update_layout(showlegend=False)\n",
    "fig.show()"
   ]
  },
  {
   "cell_type": "markdown",
   "metadata": {},
   "source": [
    "PCA"
   ]
  },
  {
   "cell_type": "code",
   "execution_count": null,
   "metadata": {},
   "outputs": [],
   "source": [
    "pca = PCA(n_components=5)\n",
    "pca.fit(X)\n",
    "print(f'explained_variance_ratio - {pca.explained_variance_ratio_}')\n"
   ]
  },
  {
   "cell_type": "code",
   "execution_count": null,
   "metadata": {},
   "outputs": [],
   "source": [
    "\n",
    "pca_components = PCA(n_components=2)\n",
    "pca_components = pca.fit_transform(X)\n",
    "\n",
    "fe_df['PCA1'] = pca_components[:, 0]\n",
    "fe_df['PCA2'] = pca_components[:, 1]\n",
    "\n",
    "# Plot the first two PCA components with different colors for each cluster\n",
    "plt.figure(figsize=(10, 7))\n",
    "colors = ['r', 'g', 'b', 'c', 'm']\n",
    "for cluster in range(n_clusters):\n",
    "    clustered_data = fe_df[fe_df['Cluster'] == str(cluster+ 1)]\n",
    "    plt.scatter(clustered_data['PCA1'],\n",
    "                clustered_data['PCA2'],\n",
    "                c=colors[cluster],\n",
    "                label=f'Cluster {cluster+1}')\n",
    "\n",
    "plt.xlabel('PCA1')\n",
    "plt.ylabel('PCA2')\n",
    "plt.title('PCA Colored by Cluster')\n",
    "plt.legend()\n",
    "plt.show()"
   ]
  },
  {
   "cell_type": "markdown",
   "metadata": {},
   "source": [
    "Clusters Evaluation"
   ]
  },
  {
   "cell_type": "code",
   "execution_count": null,
   "metadata": {},
   "outputs": [],
   "source": [
    "print(fe_df.shape)\n",
    "fe_df_full = pd.concat([fe_df, fe_df_customers], axis=1)\n",
    "print(fe_df_full.shape)\n",
    "\n",
    "cluster4 = fe_df_full[fe_df_full['Cluster'] == '4']\n",
    "cluster3 = fe_df_full[fe_df_full['Cluster'] == '3']\n",
    "cluster2 = fe_df_full[fe_df_full['Cluster'] == '2']\n",
    "cluster1 = fe_df_full[fe_df_full['Cluster'] == '1']\n",
    "\n",
    "print(cluster4[cluster4[customerid].isin(whales[customerid])].shape[0])\n",
    "print(cluster3[cluster3[customerid].isin(whales[customerid])].shape[0])\n",
    "print(cluster2[cluster2[customerid].isin(whales[customerid])].shape[0])\n",
    "print(cluster1[cluster1[customerid].isin(whales[customerid])].shape[0])\n",
    "print(whales.shape[0])\n",
    "cluster4.shape,cluster3.shape, cluster2.shape, cluster1.shape"
   ]
  }
 ],
 "metadata": {
  "kernelspec": {
   "display_name": "Python 3 (ipykernel)",
   "language": "python",
   "name": "python3"
  },
  "language_info": {
   "codemirror_mode": {
    "name": "ipython",
    "version": 3
   },
   "file_extension": ".py",
   "mimetype": "text/x-python",
   "name": "python",
   "nbconvert_exporter": "python",
   "pygments_lexer": "ipython3",
   "version": "3.11.7"
  }
 },
 "nbformat": 4,
 "nbformat_minor": 4
}
